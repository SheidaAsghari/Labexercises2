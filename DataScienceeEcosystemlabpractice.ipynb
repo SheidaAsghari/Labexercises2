{
 "cells": [
  {
   "attachments": {},
   "cell_type": "markdown",
   "id": "8a307607",
   "metadata": {},
   "source": [
    "# Data Science Tools and Ecosystem\n",
    "In this notebook, Data Science Tools and Ecosystem are summarized.\n",
    "Some of the popular languages that Data Scientists use are:\n",
    "1. Python\n",
    "2. R\n",
    "3. Scala\n",
    "Some of the commonly used libraries used by Data Scientists include:\n",
    "- Pandas\n",
    "- Numpy\n",
    "- ggplot\n",
    "- dplyr\n",
    "\n",
    "**Objectives:**\n",
    "- Popular languages for Data Science: Python, R, Scala.\n",
    "- Explain key data science tools: Key data science tools include Jupyter Notebook for interactive coding and visualization, RStudio for statistical analysis with R, and VS Code with extensions for coding and debugging, enabling data exploration, modeling, and deployment.\n",
    "- Demonstrate basic data conversion: To convert 200 minutes to hours, divide by 60.\n",
    "\n",
    "## Author\n",
    "Sheida Asghari\n",
    "\n",
    "|Data Science Tools|\n",
    "|------------------|\n",
    "|Rstudio|\n",
    "|VS code|\n",
    "|Jupyter Notebook|\n",
    "\n",
    "### Below are a few examples of evaluating arithmetic expressions in Python\n",
    "This a simple arithmetic expression to mutiply then add integers"
   ]
  },
  {
   "cell_type": "code",
   "execution_count": 7,
   "id": "b0ce666a",
   "metadata": {},
   "outputs": [
    {
     "name": "stdout",
     "output_type": "stream",
     "text": [
      "17\n"
     ]
    }
   ],
   "source": [
    "print((3*4)+5)"
   ]
  },
  {
   "cell_type": "code",
   "execution_count": 9,
   "id": "f2e6b073",
   "metadata": {},
   "outputs": [
    {
     "name": "stdout",
     "output_type": "stream",
     "text": [
      "3.3333333333333335\n"
     ]
    }
   ],
   "source": [
    "#This will convert 200 minutes to hours by diving by 60\n",
    "y = 200\n",
    "x= int(y)/60\n",
    "print(x)"
   ]
  },
  {
   "cell_type": "markdown",
   "id": "eb4bbfc3",
   "metadata": {},
   "source": []
  }
 ],
 "metadata": {
  "kernelspec": {
   "display_name": "Python 3 (ipykernel)",
   "language": "python",
   "name": "python3"
  },
  "language_info": {
   "codemirror_mode": {
    "name": "ipython",
    "version": 3
   },
   "file_extension": ".py",
   "mimetype": "text/x-python",
   "name": "python",
   "nbconvert_exporter": "python",
   "pygments_lexer": "ipython3",
   "version": "3.7.1"
  }
 },
 "nbformat": 4,
 "nbformat_minor": 5
}
